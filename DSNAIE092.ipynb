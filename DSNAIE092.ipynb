{
 "cells": [
  {
   "cell_type": "markdown",
   "metadata": {},
   "source": [
    "## Import packages"
   ]
  },
  {
   "cell_type": "code",
   "execution_count": 1,
   "metadata": {},
   "outputs": [],
   "source": [
    "import pandas as pd\n",
    "import numpy as np\n",
    "import seaborn as sns\n",
    "import matplotlib.pyplot as plt\n",
    "\n",
    "from sklearn.model_selection import train_test_split\n",
    "from sklearn.linear_model import LogisticRegression\n",
    "from sklearn.preprocessing import StandardScaler, LabelEncoder\n",
    "\n",
    "import lightgbm as lgb\n",
    "from lightgbm import LGBMClassifier"
   ]
  },
  {
   "cell_type": "markdown",
   "metadata": {},
   "source": [
    "## Read the Dataset"
   ]
  },
  {
   "cell_type": "code",
   "execution_count": 2,
   "metadata": {},
   "outputs": [],
   "source": [
    "train = pd.read_csv('train.csv')\n",
    "test = pd.read_csv('test.csv')\n",
    "sample_submission = pd.read_csv('sample_submission.csv')"
   ]
  },
  {
   "cell_type": "code",
   "execution_count": 3,
   "metadata": {},
   "outputs": [
    {
     "data": {
      "text/html": [
       "<div>\n",
       "<style scoped>\n",
       "    .dataframe tbody tr th:only-of-type {\n",
       "        vertical-align: middle;\n",
       "    }\n",
       "\n",
       "    .dataframe tbody tr th {\n",
       "        vertical-align: top;\n",
       "    }\n",
       "\n",
       "    .dataframe thead th {\n",
       "        text-align: right;\n",
       "    }\n",
       "</style>\n",
       "<table border=\"1\" class=\"dataframe\">\n",
       "  <thead>\n",
       "    <tr style=\"text-align: right;\">\n",
       "      <th></th>\n",
       "      <th>patient_id_</th>\n",
       "      <th>HAEMATOCRIT</th>\n",
       "      <th>HAEMOGLOBINS</th>\n",
       "      <th>ERYTHROCYTE</th>\n",
       "      <th>LEUCOCYTE</th>\n",
       "      <th>THROMBOCYTE</th>\n",
       "      <th>MCH</th>\n",
       "      <th>MCHC</th>\n",
       "      <th>MCV</th>\n",
       "      <th>AGE</th>\n",
       "      <th>SEX</th>\n",
       "      <th>SOURCE</th>\n",
       "    </tr>\n",
       "  </thead>\n",
       "  <tbody>\n",
       "    <tr>\n",
       "      <th>0</th>\n",
       "      <td>patient_id_1270</td>\n",
       "      <td>43.6</td>\n",
       "      <td>14.5</td>\n",
       "      <td>5.52</td>\n",
       "      <td>3.0</td>\n",
       "      <td>237</td>\n",
       "      <td>27.5</td>\n",
       "      <td>33.6</td>\n",
       "      <td>81.7</td>\n",
       "      <td>32</td>\n",
       "      <td>F</td>\n",
       "      <td>0</td>\n",
       "    </tr>\n",
       "    <tr>\n",
       "      <th>1</th>\n",
       "      <td>patient_id_1762</td>\n",
       "      <td>44.3</td>\n",
       "      <td>14.4</td>\n",
       "      <td>5.09</td>\n",
       "      <td>7.3</td>\n",
       "      <td>255</td>\n",
       "      <td>29.7</td>\n",
       "      <td>32.9</td>\n",
       "      <td>90.4</td>\n",
       "      <td>40</td>\n",
       "      <td>M</td>\n",
       "      <td>0</td>\n",
       "    </tr>\n",
       "    <tr>\n",
       "      <th>2</th>\n",
       "      <td>patient_id_3355</td>\n",
       "      <td>36.2</td>\n",
       "      <td>12.5</td>\n",
       "      <td>4.57</td>\n",
       "      <td>7.8</td>\n",
       "      <td>263</td>\n",
       "      <td>28.9</td>\n",
       "      <td>35.0</td>\n",
       "      <td>82.6</td>\n",
       "      <td>65</td>\n",
       "      <td>F</td>\n",
       "      <td>0</td>\n",
       "    </tr>\n",
       "    <tr>\n",
       "      <th>3</th>\n",
       "      <td>patient_id_2443</td>\n",
       "      <td>46.1</td>\n",
       "      <td>14.7</td>\n",
       "      <td>5.38</td>\n",
       "      <td>8.5</td>\n",
       "      <td>320</td>\n",
       "      <td>28.6</td>\n",
       "      <td>32.2</td>\n",
       "      <td>88.8</td>\n",
       "      <td>52</td>\n",
       "      <td>M</td>\n",
       "      <td>0</td>\n",
       "    </tr>\n",
       "    <tr>\n",
       "      <th>4</th>\n",
       "      <td>patient_id_3414</td>\n",
       "      <td>31.8</td>\n",
       "      <td>10.9</td>\n",
       "      <td>4.05</td>\n",
       "      <td>26.9</td>\n",
       "      <td>220</td>\n",
       "      <td>28.6</td>\n",
       "      <td>34.8</td>\n",
       "      <td>82.3</td>\n",
       "      <td>66</td>\n",
       "      <td>F</td>\n",
       "      <td>1</td>\n",
       "    </tr>\n",
       "  </tbody>\n",
       "</table>\n",
       "</div>"
      ],
      "text/plain": [
       "       patient_id_  HAEMATOCRIT  HAEMOGLOBINS  ERYTHROCYTE  LEUCOCYTE  \\\n",
       "0  patient_id_1270         43.6          14.5         5.52        3.0   \n",
       "1  patient_id_1762         44.3          14.4         5.09        7.3   \n",
       "2  patient_id_3355         36.2          12.5         4.57        7.8   \n",
       "3  patient_id_2443         46.1          14.7         5.38        8.5   \n",
       "4  patient_id_3414         31.8          10.9         4.05       26.9   \n",
       "\n",
       "   THROMBOCYTE   MCH  MCHC   MCV  AGE SEX  SOURCE  \n",
       "0          237  27.5  33.6  81.7   32   F       0  \n",
       "1          255  29.7  32.9  90.4   40   M       0  \n",
       "2          263  28.9  35.0  82.6   65   F       0  \n",
       "3          320  28.6  32.2  88.8   52   M       0  \n",
       "4          220  28.6  34.8  82.3   66   F       1  "
      ]
     },
     "execution_count": 3,
     "metadata": {},
     "output_type": "execute_result"
    }
   ],
   "source": [
    "train.head()"
   ]
  },
  {
   "cell_type": "code",
   "execution_count": 4,
   "metadata": {},
   "outputs": [
    {
     "data": {
      "text/html": [
       "<div>\n",
       "<style scoped>\n",
       "    .dataframe tbody tr th:only-of-type {\n",
       "        vertical-align: middle;\n",
       "    }\n",
       "\n",
       "    .dataframe tbody tr th {\n",
       "        vertical-align: top;\n",
       "    }\n",
       "\n",
       "    .dataframe thead th {\n",
       "        text-align: right;\n",
       "    }\n",
       "</style>\n",
       "<table border=\"1\" class=\"dataframe\">\n",
       "  <thead>\n",
       "    <tr style=\"text-align: right;\">\n",
       "      <th></th>\n",
       "      <th>patient_id_</th>\n",
       "      <th>HAEMATOCRIT</th>\n",
       "      <th>HAEMOGLOBINS</th>\n",
       "      <th>ERYTHROCYTE</th>\n",
       "      <th>LEUCOCYTE</th>\n",
       "      <th>THROMBOCYTE</th>\n",
       "      <th>MCH</th>\n",
       "      <th>MCHC</th>\n",
       "      <th>MCV</th>\n",
       "      <th>AGE</th>\n",
       "      <th>SEX</th>\n",
       "    </tr>\n",
       "  </thead>\n",
       "  <tbody>\n",
       "    <tr>\n",
       "      <th>0</th>\n",
       "      <td>patient_id_4373</td>\n",
       "      <td>33.0</td>\n",
       "      <td>11.1</td>\n",
       "      <td>4.15</td>\n",
       "      <td>11.1</td>\n",
       "      <td>329</td>\n",
       "      <td>28.4</td>\n",
       "      <td>34.1</td>\n",
       "      <td>83.2</td>\n",
       "      <td>89</td>\n",
       "      <td>F</td>\n",
       "    </tr>\n",
       "    <tr>\n",
       "      <th>1</th>\n",
       "      <td>patient_id_2204</td>\n",
       "      <td>34.0</td>\n",
       "      <td>11.1</td>\n",
       "      <td>4.23</td>\n",
       "      <td>9.7</td>\n",
       "      <td>120</td>\n",
       "      <td>27.9</td>\n",
       "      <td>33.1</td>\n",
       "      <td>84.1</td>\n",
       "      <td>47</td>\n",
       "      <td>F</td>\n",
       "    </tr>\n",
       "    <tr>\n",
       "      <th>2</th>\n",
       "      <td>patient_id_93</td>\n",
       "      <td>42.4</td>\n",
       "      <td>14.1</td>\n",
       "      <td>5.71</td>\n",
       "      <td>4.3</td>\n",
       "      <td>239</td>\n",
       "      <td>25.8</td>\n",
       "      <td>33.6</td>\n",
       "      <td>76.7</td>\n",
       "      <td>3</td>\n",
       "      <td>M</td>\n",
       "    </tr>\n",
       "    <tr>\n",
       "      <th>3</th>\n",
       "      <td>patient_id_798</td>\n",
       "      <td>40.3</td>\n",
       "      <td>13.4</td>\n",
       "      <td>5.19</td>\n",
       "      <td>4.7</td>\n",
       "      <td>208</td>\n",
       "      <td>27.1</td>\n",
       "      <td>33.7</td>\n",
       "      <td>80.5</td>\n",
       "      <td>25</td>\n",
       "      <td>F</td>\n",
       "    </tr>\n",
       "    <tr>\n",
       "      <th>4</th>\n",
       "      <td>patient_id_789</td>\n",
       "      <td>33.3</td>\n",
       "      <td>11.4</td>\n",
       "      <td>4.28</td>\n",
       "      <td>7.5</td>\n",
       "      <td>206</td>\n",
       "      <td>28.3</td>\n",
       "      <td>34.7</td>\n",
       "      <td>81.3</td>\n",
       "      <td>25</td>\n",
       "      <td>F</td>\n",
       "    </tr>\n",
       "  </tbody>\n",
       "</table>\n",
       "</div>"
      ],
      "text/plain": [
       "       patient_id_  HAEMATOCRIT  HAEMOGLOBINS  ERYTHROCYTE  LEUCOCYTE  \\\n",
       "0  patient_id_4373         33.0          11.1         4.15       11.1   \n",
       "1  patient_id_2204         34.0          11.1         4.23        9.7   \n",
       "2    patient_id_93         42.4          14.1         5.71        4.3   \n",
       "3   patient_id_798         40.3          13.4         5.19        4.7   \n",
       "4   patient_id_789         33.3          11.4         4.28        7.5   \n",
       "\n",
       "   THROMBOCYTE   MCH  MCHC   MCV  AGE SEX  \n",
       "0          329  28.4  34.1  83.2   89   F  \n",
       "1          120  27.9  33.1  84.1   47   F  \n",
       "2          239  25.8  33.6  76.7    3   M  \n",
       "3          208  27.1  33.7  80.5   25   F  \n",
       "4          206  28.3  34.7  81.3   25   F  "
      ]
     },
     "execution_count": 4,
     "metadata": {},
     "output_type": "execute_result"
    }
   ],
   "source": [
    "test.head()"
   ]
  },
  {
   "cell_type": "code",
   "execution_count": 5,
   "metadata": {},
   "outputs": [
    {
     "data": {
      "text/html": [
       "<div>\n",
       "<style scoped>\n",
       "    .dataframe tbody tr th:only-of-type {\n",
       "        vertical-align: middle;\n",
       "    }\n",
       "\n",
       "    .dataframe tbody tr th {\n",
       "        vertical-align: top;\n",
       "    }\n",
       "\n",
       "    .dataframe thead th {\n",
       "        text-align: right;\n",
       "    }\n",
       "</style>\n",
       "<table border=\"1\" class=\"dataframe\">\n",
       "  <thead>\n",
       "    <tr style=\"text-align: right;\">\n",
       "      <th></th>\n",
       "      <th>patient_id_</th>\n",
       "      <th>SOURCE</th>\n",
       "    </tr>\n",
       "  </thead>\n",
       "  <tbody>\n",
       "    <tr>\n",
       "      <th>0</th>\n",
       "      <td>patient_id_4373</td>\n",
       "      <td>1</td>\n",
       "    </tr>\n",
       "    <tr>\n",
       "      <th>1</th>\n",
       "      <td>patient_id_2204</td>\n",
       "      <td>1</td>\n",
       "    </tr>\n",
       "    <tr>\n",
       "      <th>2</th>\n",
       "      <td>patient_id_93</td>\n",
       "      <td>1</td>\n",
       "    </tr>\n",
       "    <tr>\n",
       "      <th>3</th>\n",
       "      <td>patient_id_798</td>\n",
       "      <td>1</td>\n",
       "    </tr>\n",
       "    <tr>\n",
       "      <th>4</th>\n",
       "      <td>patient_id_789</td>\n",
       "      <td>1</td>\n",
       "    </tr>\n",
       "  </tbody>\n",
       "</table>\n",
       "</div>"
      ],
      "text/plain": [
       "       patient_id_  SOURCE\n",
       "0  patient_id_4373       1\n",
       "1  patient_id_2204       1\n",
       "2    patient_id_93       1\n",
       "3   patient_id_798       1\n",
       "4   patient_id_789       1"
      ]
     },
     "execution_count": 5,
     "metadata": {},
     "output_type": "execute_result"
    }
   ],
   "source": [
    "sample_submission.head()"
   ]
  },
  {
   "cell_type": "code",
   "execution_count": 6,
   "metadata": {},
   "outputs": [
    {
     "data": {
      "text/plain": [
       "((3088, 12), (1324, 11))"
      ]
     },
     "execution_count": 6,
     "metadata": {},
     "output_type": "execute_result"
    }
   ],
   "source": [
    "train.shape, test.shape"
   ]
  },
  {
   "cell_type": "markdown",
   "metadata": {},
   "source": [
    "## Exploratory Data Analysis"
   ]
  },
  {
   "cell_type": "code",
   "execution_count": 7,
   "metadata": {},
   "outputs": [
    {
     "data": {
      "text/plain": [
       "patient_id_     0\n",
       "HAEMATOCRIT     0\n",
       "HAEMOGLOBINS    0\n",
       "ERYTHROCYTE     0\n",
       "LEUCOCYTE       0\n",
       "THROMBOCYTE     0\n",
       "MCH             0\n",
       "MCHC            0\n",
       "MCV             0\n",
       "AGE             0\n",
       "SEX             0\n",
       "SOURCE          0\n",
       "dtype: int64"
      ]
     },
     "execution_count": 7,
     "metadata": {},
     "output_type": "execute_result"
    }
   ],
   "source": [
    "train.isnull().sum()"
   ]
  },
  {
   "cell_type": "code",
   "execution_count": 8,
   "metadata": {},
   "outputs": [
    {
     "data": {
      "text/plain": [
       "patient_id_     0\n",
       "HAEMATOCRIT     0\n",
       "HAEMOGLOBINS    0\n",
       "ERYTHROCYTE     0\n",
       "LEUCOCYTE       0\n",
       "THROMBOCYTE     0\n",
       "MCH             0\n",
       "MCHC            0\n",
       "MCV             0\n",
       "AGE             0\n",
       "SEX             0\n",
       "dtype: int64"
      ]
     },
     "execution_count": 8,
     "metadata": {},
     "output_type": "execute_result"
    }
   ],
   "source": [
    "test.isnull().sum()"
   ]
  },
  {
   "cell_type": "code",
   "execution_count": 9,
   "metadata": {},
   "outputs": [
    {
     "data": {
      "text/plain": [
       "['SOURCE']"
      ]
     },
     "execution_count": 9,
     "metadata": {},
     "output_type": "execute_result"
    }
   ],
   "source": [
    "#To check for the target column\n",
    "\n",
    "target = [col for col in train.columns if col not in test.columns]\n",
    "\n",
    "target"
   ]
  },
  {
   "cell_type": "code",
   "execution_count": 10,
   "metadata": {},
   "outputs": [
    {
     "name": "stdout",
     "output_type": "stream",
     "text": [
      "<class 'pandas.core.frame.DataFrame'>\n",
      "RangeIndex: 3088 entries, 0 to 3087\n",
      "Data columns (total 12 columns):\n",
      " #   Column        Non-Null Count  Dtype  \n",
      "---  ------        --------------  -----  \n",
      " 0   patient_id_   3088 non-null   object \n",
      " 1   HAEMATOCRIT   3088 non-null   float64\n",
      " 2   HAEMOGLOBINS  3088 non-null   float64\n",
      " 3   ERYTHROCYTE   3088 non-null   float64\n",
      " 4   LEUCOCYTE     3088 non-null   float64\n",
      " 5   THROMBOCYTE   3088 non-null   int64  \n",
      " 6   MCH           3088 non-null   float64\n",
      " 7   MCHC          3088 non-null   float64\n",
      " 8   MCV           3088 non-null   float64\n",
      " 9   AGE           3088 non-null   int64  \n",
      " 10  SEX           3088 non-null   object \n",
      " 11  SOURCE        3088 non-null   int64  \n",
      "dtypes: float64(7), int64(3), object(2)\n",
      "memory usage: 289.6+ KB\n"
     ]
    }
   ],
   "source": [
    "#To check for information on the train dataset\n",
    "\n",
    "train.info()"
   ]
  },
  {
   "cell_type": "code",
   "execution_count": 11,
   "metadata": {},
   "outputs": [
    {
     "data": {
      "text/html": [
       "<div>\n",
       "<style scoped>\n",
       "    .dataframe tbody tr th:only-of-type {\n",
       "        vertical-align: middle;\n",
       "    }\n",
       "\n",
       "    .dataframe tbody tr th {\n",
       "        vertical-align: top;\n",
       "    }\n",
       "\n",
       "    .dataframe thead th {\n",
       "        text-align: right;\n",
       "    }\n",
       "</style>\n",
       "<table border=\"1\" class=\"dataframe\">\n",
       "  <thead>\n",
       "    <tr style=\"text-align: right;\">\n",
       "      <th></th>\n",
       "      <th>HAEMATOCRIT</th>\n",
       "      <th>HAEMOGLOBINS</th>\n",
       "      <th>ERYTHROCYTE</th>\n",
       "      <th>LEUCOCYTE</th>\n",
       "      <th>THROMBOCYTE</th>\n",
       "      <th>MCH</th>\n",
       "      <th>MCHC</th>\n",
       "      <th>MCV</th>\n",
       "      <th>AGE</th>\n",
       "      <th>SOURCE</th>\n",
       "    </tr>\n",
       "  </thead>\n",
       "  <tbody>\n",
       "    <tr>\n",
       "      <th>count</th>\n",
       "      <td>3088.000000</td>\n",
       "      <td>3088.000000</td>\n",
       "      <td>3088.000000</td>\n",
       "      <td>3088.000000</td>\n",
       "      <td>3088.000000</td>\n",
       "      <td>3088.000000</td>\n",
       "      <td>3088.000000</td>\n",
       "      <td>3088.000000</td>\n",
       "      <td>3088.000000</td>\n",
       "      <td>3088.000000</td>\n",
       "    </tr>\n",
       "    <tr>\n",
       "      <th>mean</th>\n",
       "      <td>38.381865</td>\n",
       "      <td>12.638472</td>\n",
       "      <td>4.752160</td>\n",
       "      <td>8.788504</td>\n",
       "      <td>260.652850</td>\n",
       "      <td>28.218264</td>\n",
       "      <td>33.352364</td>\n",
       "      <td>84.540026</td>\n",
       "      <td>46.617876</td>\n",
       "      <td>0.409974</td>\n",
       "    </tr>\n",
       "    <tr>\n",
       "      <th>std</th>\n",
       "      <td>6.070420</td>\n",
       "      <td>2.104983</td>\n",
       "      <td>0.792281</td>\n",
       "      <td>5.055580</td>\n",
       "      <td>115.504157</td>\n",
       "      <td>2.658656</td>\n",
       "      <td>1.227691</td>\n",
       "      <td>6.814936</td>\n",
       "      <td>21.684646</td>\n",
       "      <td>0.491908</td>\n",
       "    </tr>\n",
       "    <tr>\n",
       "      <th>min</th>\n",
       "      <td>13.900000</td>\n",
       "      <td>4.300000</td>\n",
       "      <td>1.690000</td>\n",
       "      <td>1.200000</td>\n",
       "      <td>13.000000</td>\n",
       "      <td>14.900000</td>\n",
       "      <td>26.400000</td>\n",
       "      <td>54.000000</td>\n",
       "      <td>1.000000</td>\n",
       "      <td>0.000000</td>\n",
       "    </tr>\n",
       "    <tr>\n",
       "      <th>25%</th>\n",
       "      <td>34.500000</td>\n",
       "      <td>11.275000</td>\n",
       "      <td>4.240000</td>\n",
       "      <td>5.700000</td>\n",
       "      <td>191.000000</td>\n",
       "      <td>27.200000</td>\n",
       "      <td>32.700000</td>\n",
       "      <td>81.500000</td>\n",
       "      <td>29.000000</td>\n",
       "      <td>0.000000</td>\n",
       "    </tr>\n",
       "    <tr>\n",
       "      <th>50%</th>\n",
       "      <td>38.800000</td>\n",
       "      <td>12.800000</td>\n",
       "      <td>4.790000</td>\n",
       "      <td>7.600000</td>\n",
       "      <td>259.000000</td>\n",
       "      <td>28.700000</td>\n",
       "      <td>33.400000</td>\n",
       "      <td>85.400000</td>\n",
       "      <td>47.000000</td>\n",
       "      <td>0.000000</td>\n",
       "    </tr>\n",
       "    <tr>\n",
       "      <th>75%</th>\n",
       "      <td>42.700000</td>\n",
       "      <td>14.200000</td>\n",
       "      <td>5.260000</td>\n",
       "      <td>10.400000</td>\n",
       "      <td>325.000000</td>\n",
       "      <td>29.800000</td>\n",
       "      <td>34.100000</td>\n",
       "      <td>88.700000</td>\n",
       "      <td>64.000000</td>\n",
       "      <td>1.000000</td>\n",
       "    </tr>\n",
       "    <tr>\n",
       "      <th>max</th>\n",
       "      <td>69.200000</td>\n",
       "      <td>18.100000</td>\n",
       "      <td>8.070000</td>\n",
       "      <td>76.700000</td>\n",
       "      <td>1188.000000</td>\n",
       "      <td>36.800000</td>\n",
       "      <td>39.000000</td>\n",
       "      <td>105.300000</td>\n",
       "      <td>99.000000</td>\n",
       "      <td>1.000000</td>\n",
       "    </tr>\n",
       "  </tbody>\n",
       "</table>\n",
       "</div>"
      ],
      "text/plain": [
       "       HAEMATOCRIT  HAEMOGLOBINS  ERYTHROCYTE    LEUCOCYTE  THROMBOCYTE  \\\n",
       "count  3088.000000   3088.000000  3088.000000  3088.000000  3088.000000   \n",
       "mean     38.381865     12.638472     4.752160     8.788504   260.652850   \n",
       "std       6.070420      2.104983     0.792281     5.055580   115.504157   \n",
       "min      13.900000      4.300000     1.690000     1.200000    13.000000   \n",
       "25%      34.500000     11.275000     4.240000     5.700000   191.000000   \n",
       "50%      38.800000     12.800000     4.790000     7.600000   259.000000   \n",
       "75%      42.700000     14.200000     5.260000    10.400000   325.000000   \n",
       "max      69.200000     18.100000     8.070000    76.700000  1188.000000   \n",
       "\n",
       "               MCH         MCHC          MCV          AGE       SOURCE  \n",
       "count  3088.000000  3088.000000  3088.000000  3088.000000  3088.000000  \n",
       "mean     28.218264    33.352364    84.540026    46.617876     0.409974  \n",
       "std       2.658656     1.227691     6.814936    21.684646     0.491908  \n",
       "min      14.900000    26.400000    54.000000     1.000000     0.000000  \n",
       "25%      27.200000    32.700000    81.500000    29.000000     0.000000  \n",
       "50%      28.700000    33.400000    85.400000    47.000000     0.000000  \n",
       "75%      29.800000    34.100000    88.700000    64.000000     1.000000  \n",
       "max      36.800000    39.000000   105.300000    99.000000     1.000000  "
      ]
     },
     "execution_count": 11,
     "metadata": {},
     "output_type": "execute_result"
    }
   ],
   "source": [
    "# To have stastistical information of the train dataset\n",
    "\n",
    "train.describe()"
   ]
  },
  {
   "cell_type": "code",
   "execution_count": 12,
   "metadata": {},
   "outputs": [
    {
     "data": {
      "text/html": [
       "<div>\n",
       "<style scoped>\n",
       "    .dataframe tbody tr th:only-of-type {\n",
       "        vertical-align: middle;\n",
       "    }\n",
       "\n",
       "    .dataframe tbody tr th {\n",
       "        vertical-align: top;\n",
       "    }\n",
       "\n",
       "    .dataframe thead th {\n",
       "        text-align: right;\n",
       "    }\n",
       "</style>\n",
       "<table border=\"1\" class=\"dataframe\">\n",
       "  <thead>\n",
       "    <tr style=\"text-align: right;\">\n",
       "      <th></th>\n",
       "      <th>HAEMATOCRIT</th>\n",
       "      <th>HAEMOGLOBINS</th>\n",
       "      <th>ERYTHROCYTE</th>\n",
       "      <th>LEUCOCYTE</th>\n",
       "      <th>THROMBOCYTE</th>\n",
       "      <th>MCH</th>\n",
       "      <th>MCHC</th>\n",
       "      <th>MCV</th>\n",
       "      <th>AGE</th>\n",
       "    </tr>\n",
       "  </thead>\n",
       "  <tbody>\n",
       "    <tr>\n",
       "      <th>count</th>\n",
       "      <td>1324.000000</td>\n",
       "      <td>1324.000000</td>\n",
       "      <td>1324.000000</td>\n",
       "      <td>1324.000000</td>\n",
       "      <td>1324.000000</td>\n",
       "      <td>1324.000000</td>\n",
       "      <td>1324.000000</td>\n",
       "      <td>1324.000000</td>\n",
       "      <td>1324.000000</td>\n",
       "    </tr>\n",
       "    <tr>\n",
       "      <th>mean</th>\n",
       "      <td>38.434592</td>\n",
       "      <td>12.649320</td>\n",
       "      <td>4.749162</td>\n",
       "      <td>8.888822</td>\n",
       "      <td>266.889728</td>\n",
       "      <td>28.273036</td>\n",
       "      <td>33.321299</td>\n",
       "      <td>84.783006</td>\n",
       "      <td>46.646526</td>\n",
       "    </tr>\n",
       "    <tr>\n",
       "      <th>std</th>\n",
       "      <td>5.747626</td>\n",
       "      <td>2.020961</td>\n",
       "      <td>0.764941</td>\n",
       "      <td>5.034963</td>\n",
       "      <td>110.236480</td>\n",
       "      <td>2.705596</td>\n",
       "      <td>1.231122</td>\n",
       "      <td>6.960646</td>\n",
       "      <td>21.847658</td>\n",
       "    </tr>\n",
       "    <tr>\n",
       "      <th>min</th>\n",
       "      <td>14.800000</td>\n",
       "      <td>3.700000</td>\n",
       "      <td>2.190000</td>\n",
       "      <td>1.200000</td>\n",
       "      <td>15.000000</td>\n",
       "      <td>16.500000</td>\n",
       "      <td>26.000000</td>\n",
       "      <td>54.100000</td>\n",
       "      <td>1.000000</td>\n",
       "    </tr>\n",
       "    <tr>\n",
       "      <th>25%</th>\n",
       "      <td>34.800000</td>\n",
       "      <td>11.400000</td>\n",
       "      <td>4.290000</td>\n",
       "      <td>5.900000</td>\n",
       "      <td>200.000000</td>\n",
       "      <td>27.100000</td>\n",
       "      <td>32.600000</td>\n",
       "      <td>81.600000</td>\n",
       "      <td>29.000000</td>\n",
       "    </tr>\n",
       "    <tr>\n",
       "      <th>50%</th>\n",
       "      <td>38.850000</td>\n",
       "      <td>12.800000</td>\n",
       "      <td>4.770000</td>\n",
       "      <td>7.700000</td>\n",
       "      <td>267.000000</td>\n",
       "      <td>28.700000</td>\n",
       "      <td>33.400000</td>\n",
       "      <td>85.400000</td>\n",
       "      <td>48.000000</td>\n",
       "    </tr>\n",
       "    <tr>\n",
       "      <th>75%</th>\n",
       "      <td>42.700000</td>\n",
       "      <td>14.025000</td>\n",
       "      <td>5.270000</td>\n",
       "      <td>10.600000</td>\n",
       "      <td>327.000000</td>\n",
       "      <td>29.900000</td>\n",
       "      <td>34.100000</td>\n",
       "      <td>88.800000</td>\n",
       "      <td>64.000000</td>\n",
       "    </tr>\n",
       "    <tr>\n",
       "      <th>max</th>\n",
       "      <td>58.300000</td>\n",
       "      <td>18.800000</td>\n",
       "      <td>7.170000</td>\n",
       "      <td>60.900000</td>\n",
       "      <td>979.000000</td>\n",
       "      <td>40.800000</td>\n",
       "      <td>37.600000</td>\n",
       "      <td>115.600000</td>\n",
       "      <td>98.000000</td>\n",
       "    </tr>\n",
       "  </tbody>\n",
       "</table>\n",
       "</div>"
      ],
      "text/plain": [
       "       HAEMATOCRIT  HAEMOGLOBINS  ERYTHROCYTE    LEUCOCYTE  THROMBOCYTE  \\\n",
       "count  1324.000000   1324.000000  1324.000000  1324.000000  1324.000000   \n",
       "mean     38.434592     12.649320     4.749162     8.888822   266.889728   \n",
       "std       5.747626      2.020961     0.764941     5.034963   110.236480   \n",
       "min      14.800000      3.700000     2.190000     1.200000    15.000000   \n",
       "25%      34.800000     11.400000     4.290000     5.900000   200.000000   \n",
       "50%      38.850000     12.800000     4.770000     7.700000   267.000000   \n",
       "75%      42.700000     14.025000     5.270000    10.600000   327.000000   \n",
       "max      58.300000     18.800000     7.170000    60.900000   979.000000   \n",
       "\n",
       "               MCH         MCHC          MCV          AGE  \n",
       "count  1324.000000  1324.000000  1324.000000  1324.000000  \n",
       "mean     28.273036    33.321299    84.783006    46.646526  \n",
       "std       2.705596     1.231122     6.960646    21.847658  \n",
       "min      16.500000    26.000000    54.100000     1.000000  \n",
       "25%      27.100000    32.600000    81.600000    29.000000  \n",
       "50%      28.700000    33.400000    85.400000    48.000000  \n",
       "75%      29.900000    34.100000    88.800000    64.000000  \n",
       "max      40.800000    37.600000   115.600000    98.000000  "
      ]
     },
     "execution_count": 12,
     "metadata": {},
     "output_type": "execute_result"
    }
   ],
   "source": [
    "test.describe()"
   ]
  },
  {
   "cell_type": "code",
   "execution_count": 13,
   "metadata": {},
   "outputs": [
    {
     "data": {
      "text/plain": [
       "['patient_id_', 'SEX']"
      ]
     },
     "execution_count": 13,
     "metadata": {},
     "output_type": "execute_result"
    }
   ],
   "source": [
    "# Grouping the data into Categorical and numerical features\n",
    "\n",
    "categorical_feat = [feat for feat in train.columns if train[feat].dtype == 'O']\n",
    "\n",
    "categorical_feat"
   ]
  },
  {
   "cell_type": "code",
   "execution_count": 14,
   "metadata": {},
   "outputs": [
    {
     "data": {
      "text/plain": [
       "['HAEMATOCRIT',\n",
       " 'HAEMOGLOBINS',\n",
       " 'ERYTHROCYTE',\n",
       " 'LEUCOCYTE',\n",
       " 'THROMBOCYTE',\n",
       " 'MCH',\n",
       " 'MCHC',\n",
       " 'MCV',\n",
       " 'AGE',\n",
       " 'SOURCE']"
      ]
     },
     "execution_count": 14,
     "metadata": {},
     "output_type": "execute_result"
    }
   ],
   "source": [
    "num_feat = [feat for feat in train.columns if feat not in categorical_feat]\n",
    "\n",
    "num_feat"
   ]
  },
  {
   "cell_type": "code",
   "execution_count": 15,
   "metadata": {},
   "outputs": [
    {
     "data": {
      "text/html": [
       "<div>\n",
       "<style scoped>\n",
       "    .dataframe tbody tr th:only-of-type {\n",
       "        vertical-align: middle;\n",
       "    }\n",
       "\n",
       "    .dataframe tbody tr th {\n",
       "        vertical-align: top;\n",
       "    }\n",
       "\n",
       "    .dataframe thead th {\n",
       "        text-align: right;\n",
       "    }\n",
       "</style>\n",
       "<table border=\"1\" class=\"dataframe\">\n",
       "  <thead>\n",
       "    <tr style=\"text-align: right;\">\n",
       "      <th></th>\n",
       "      <th>HAEMATOCRIT</th>\n",
       "      <th>HAEMOGLOBINS</th>\n",
       "      <th>ERYTHROCYTE</th>\n",
       "      <th>LEUCOCYTE</th>\n",
       "      <th>THROMBOCYTE</th>\n",
       "      <th>MCH</th>\n",
       "      <th>MCHC</th>\n",
       "      <th>MCV</th>\n",
       "      <th>AGE</th>\n",
       "      <th>SOURCE</th>\n",
       "    </tr>\n",
       "  </thead>\n",
       "  <tbody>\n",
       "    <tr>\n",
       "      <th>0</th>\n",
       "      <td>43.6</td>\n",
       "      <td>14.5</td>\n",
       "      <td>5.52</td>\n",
       "      <td>3.0</td>\n",
       "      <td>237</td>\n",
       "      <td>27.5</td>\n",
       "      <td>33.6</td>\n",
       "      <td>81.7</td>\n",
       "      <td>32</td>\n",
       "      <td>0</td>\n",
       "    </tr>\n",
       "    <tr>\n",
       "      <th>1</th>\n",
       "      <td>44.3</td>\n",
       "      <td>14.4</td>\n",
       "      <td>5.09</td>\n",
       "      <td>7.3</td>\n",
       "      <td>255</td>\n",
       "      <td>29.7</td>\n",
       "      <td>32.9</td>\n",
       "      <td>90.4</td>\n",
       "      <td>40</td>\n",
       "      <td>0</td>\n",
       "    </tr>\n",
       "    <tr>\n",
       "      <th>2</th>\n",
       "      <td>36.2</td>\n",
       "      <td>12.5</td>\n",
       "      <td>4.57</td>\n",
       "      <td>7.8</td>\n",
       "      <td>263</td>\n",
       "      <td>28.9</td>\n",
       "      <td>35.0</td>\n",
       "      <td>82.6</td>\n",
       "      <td>65</td>\n",
       "      <td>0</td>\n",
       "    </tr>\n",
       "    <tr>\n",
       "      <th>3</th>\n",
       "      <td>46.1</td>\n",
       "      <td>14.7</td>\n",
       "      <td>5.38</td>\n",
       "      <td>8.5</td>\n",
       "      <td>320</td>\n",
       "      <td>28.6</td>\n",
       "      <td>32.2</td>\n",
       "      <td>88.8</td>\n",
       "      <td>52</td>\n",
       "      <td>0</td>\n",
       "    </tr>\n",
       "    <tr>\n",
       "      <th>4</th>\n",
       "      <td>31.8</td>\n",
       "      <td>10.9</td>\n",
       "      <td>4.05</td>\n",
       "      <td>26.9</td>\n",
       "      <td>220</td>\n",
       "      <td>28.6</td>\n",
       "      <td>34.8</td>\n",
       "      <td>82.3</td>\n",
       "      <td>66</td>\n",
       "      <td>1</td>\n",
       "    </tr>\n",
       "  </tbody>\n",
       "</table>\n",
       "</div>"
      ],
      "text/plain": [
       "   HAEMATOCRIT  HAEMOGLOBINS  ERYTHROCYTE  LEUCOCYTE  THROMBOCYTE   MCH  MCHC  \\\n",
       "0         43.6          14.5         5.52        3.0          237  27.5  33.6   \n",
       "1         44.3          14.4         5.09        7.3          255  29.7  32.9   \n",
       "2         36.2          12.5         4.57        7.8          263  28.9  35.0   \n",
       "3         46.1          14.7         5.38        8.5          320  28.6  32.2   \n",
       "4         31.8          10.9         4.05       26.9          220  28.6  34.8   \n",
       "\n",
       "    MCV  AGE  SOURCE  \n",
       "0  81.7   32       0  \n",
       "1  90.4   40       0  \n",
       "2  82.6   65       0  \n",
       "3  88.8   52       0  \n",
       "4  82.3   66       1  "
      ]
     },
     "execution_count": 15,
     "metadata": {},
     "output_type": "execute_result"
    }
   ],
   "source": [
    "# To check the numerical features dataframe\n",
    "\n",
    "train[num_feat].head()"
   ]
  },
  {
   "cell_type": "code",
   "execution_count": 16,
   "metadata": {},
   "outputs": [],
   "source": [
    "# We need to remove the target variable(Source) column from the numerical features dataframe\n",
    "\n",
    "num_feat.remove('SOURCE')"
   ]
  },
  {
   "cell_type": "code",
   "execution_count": 17,
   "metadata": {},
   "outputs": [
    {
     "data": {
      "text/html": [
       "<div>\n",
       "<style scoped>\n",
       "    .dataframe tbody tr th:only-of-type {\n",
       "        vertical-align: middle;\n",
       "    }\n",
       "\n",
       "    .dataframe tbody tr th {\n",
       "        vertical-align: top;\n",
       "    }\n",
       "\n",
       "    .dataframe thead th {\n",
       "        text-align: right;\n",
       "    }\n",
       "</style>\n",
       "<table border=\"1\" class=\"dataframe\">\n",
       "  <thead>\n",
       "    <tr style=\"text-align: right;\">\n",
       "      <th></th>\n",
       "      <th>HAEMATOCRIT</th>\n",
       "      <th>HAEMOGLOBINS</th>\n",
       "      <th>ERYTHROCYTE</th>\n",
       "      <th>LEUCOCYTE</th>\n",
       "      <th>THROMBOCYTE</th>\n",
       "      <th>MCH</th>\n",
       "      <th>MCHC</th>\n",
       "      <th>MCV</th>\n",
       "      <th>AGE</th>\n",
       "    </tr>\n",
       "  </thead>\n",
       "  <tbody>\n",
       "    <tr>\n",
       "      <th>0</th>\n",
       "      <td>43.6</td>\n",
       "      <td>14.5</td>\n",
       "      <td>5.52</td>\n",
       "      <td>3.0</td>\n",
       "      <td>237</td>\n",
       "      <td>27.5</td>\n",
       "      <td>33.6</td>\n",
       "      <td>81.7</td>\n",
       "      <td>32</td>\n",
       "    </tr>\n",
       "    <tr>\n",
       "      <th>1</th>\n",
       "      <td>44.3</td>\n",
       "      <td>14.4</td>\n",
       "      <td>5.09</td>\n",
       "      <td>7.3</td>\n",
       "      <td>255</td>\n",
       "      <td>29.7</td>\n",
       "      <td>32.9</td>\n",
       "      <td>90.4</td>\n",
       "      <td>40</td>\n",
       "    </tr>\n",
       "    <tr>\n",
       "      <th>2</th>\n",
       "      <td>36.2</td>\n",
       "      <td>12.5</td>\n",
       "      <td>4.57</td>\n",
       "      <td>7.8</td>\n",
       "      <td>263</td>\n",
       "      <td>28.9</td>\n",
       "      <td>35.0</td>\n",
       "      <td>82.6</td>\n",
       "      <td>65</td>\n",
       "    </tr>\n",
       "    <tr>\n",
       "      <th>3</th>\n",
       "      <td>46.1</td>\n",
       "      <td>14.7</td>\n",
       "      <td>5.38</td>\n",
       "      <td>8.5</td>\n",
       "      <td>320</td>\n",
       "      <td>28.6</td>\n",
       "      <td>32.2</td>\n",
       "      <td>88.8</td>\n",
       "      <td>52</td>\n",
       "    </tr>\n",
       "    <tr>\n",
       "      <th>4</th>\n",
       "      <td>31.8</td>\n",
       "      <td>10.9</td>\n",
       "      <td>4.05</td>\n",
       "      <td>26.9</td>\n",
       "      <td>220</td>\n",
       "      <td>28.6</td>\n",
       "      <td>34.8</td>\n",
       "      <td>82.3</td>\n",
       "      <td>66</td>\n",
       "    </tr>\n",
       "  </tbody>\n",
       "</table>\n",
       "</div>"
      ],
      "text/plain": [
       "   HAEMATOCRIT  HAEMOGLOBINS  ERYTHROCYTE  LEUCOCYTE  THROMBOCYTE   MCH  MCHC  \\\n",
       "0         43.6          14.5         5.52        3.0          237  27.5  33.6   \n",
       "1         44.3          14.4         5.09        7.3          255  29.7  32.9   \n",
       "2         36.2          12.5         4.57        7.8          263  28.9  35.0   \n",
       "3         46.1          14.7         5.38        8.5          320  28.6  32.2   \n",
       "4         31.8          10.9         4.05       26.9          220  28.6  34.8   \n",
       "\n",
       "    MCV  AGE  \n",
       "0  81.7   32  \n",
       "1  90.4   40  \n",
       "2  82.6   65  \n",
       "3  88.8   52  \n",
       "4  82.3   66  "
      ]
     },
     "execution_count": 17,
     "metadata": {},
     "output_type": "execute_result"
    }
   ],
   "source": [
    "train[num_feat].head()"
   ]
  },
  {
   "cell_type": "code",
   "execution_count": 18,
   "metadata": {},
   "outputs": [],
   "source": [
    "Encoder = LabelEncoder()"
   ]
  },
  {
   "cell_type": "code",
   "execution_count": 19,
   "metadata": {},
   "outputs": [],
   "source": [
    "train.SEX = Encoder.fit_transform(train.SEX)"
   ]
  },
  {
   "cell_type": "code",
   "execution_count": 20,
   "metadata": {},
   "outputs": [],
   "source": [
    "test.SEX = Encoder.transform(test.SEX)"
   ]
  },
  {
   "cell_type": "code",
   "execution_count": 21,
   "metadata": {},
   "outputs": [
    {
     "data": {
      "text/plain": [
       "['HAEMATOCRIT',\n",
       " 'HAEMOGLOBINS',\n",
       " 'ERYTHROCYTE',\n",
       " 'LEUCOCYTE',\n",
       " 'THROMBOCYTE',\n",
       " 'MCH',\n",
       " 'MCHC',\n",
       " 'MCV',\n",
       " 'AGE']"
      ]
     },
     "execution_count": 21,
     "metadata": {},
     "output_type": "execute_result"
    }
   ],
   "source": [
    "num_feat"
   ]
  },
  {
   "cell_type": "code",
   "execution_count": 22,
   "metadata": {},
   "outputs": [],
   "source": [
    "num_feat.append(\"SEX\")"
   ]
  },
  {
   "cell_type": "code",
   "execution_count": 23,
   "metadata": {},
   "outputs": [],
   "source": [
    "categorical_feat.remove('SEX')"
   ]
  },
  {
   "cell_type": "code",
   "execution_count": 24,
   "metadata": {},
   "outputs": [
    {
     "data": {
      "text/html": [
       "<div>\n",
       "<style scoped>\n",
       "    .dataframe tbody tr th:only-of-type {\n",
       "        vertical-align: middle;\n",
       "    }\n",
       "\n",
       "    .dataframe tbody tr th {\n",
       "        vertical-align: top;\n",
       "    }\n",
       "\n",
       "    .dataframe thead th {\n",
       "        text-align: right;\n",
       "    }\n",
       "</style>\n",
       "<table border=\"1\" class=\"dataframe\">\n",
       "  <thead>\n",
       "    <tr style=\"text-align: right;\">\n",
       "      <th></th>\n",
       "      <th>HAEMATOCRIT</th>\n",
       "      <th>HAEMOGLOBINS</th>\n",
       "      <th>ERYTHROCYTE</th>\n",
       "      <th>LEUCOCYTE</th>\n",
       "      <th>THROMBOCYTE</th>\n",
       "      <th>MCH</th>\n",
       "      <th>MCHC</th>\n",
       "      <th>MCV</th>\n",
       "      <th>AGE</th>\n",
       "      <th>SEX</th>\n",
       "    </tr>\n",
       "  </thead>\n",
       "  <tbody>\n",
       "    <tr>\n",
       "      <th>0</th>\n",
       "      <td>43.6</td>\n",
       "      <td>14.5</td>\n",
       "      <td>5.52</td>\n",
       "      <td>3.0</td>\n",
       "      <td>237</td>\n",
       "      <td>27.5</td>\n",
       "      <td>33.6</td>\n",
       "      <td>81.7</td>\n",
       "      <td>32</td>\n",
       "      <td>0</td>\n",
       "    </tr>\n",
       "    <tr>\n",
       "      <th>1</th>\n",
       "      <td>44.3</td>\n",
       "      <td>14.4</td>\n",
       "      <td>5.09</td>\n",
       "      <td>7.3</td>\n",
       "      <td>255</td>\n",
       "      <td>29.7</td>\n",
       "      <td>32.9</td>\n",
       "      <td>90.4</td>\n",
       "      <td>40</td>\n",
       "      <td>1</td>\n",
       "    </tr>\n",
       "    <tr>\n",
       "      <th>2</th>\n",
       "      <td>36.2</td>\n",
       "      <td>12.5</td>\n",
       "      <td>4.57</td>\n",
       "      <td>7.8</td>\n",
       "      <td>263</td>\n",
       "      <td>28.9</td>\n",
       "      <td>35.0</td>\n",
       "      <td>82.6</td>\n",
       "      <td>65</td>\n",
       "      <td>0</td>\n",
       "    </tr>\n",
       "    <tr>\n",
       "      <th>3</th>\n",
       "      <td>46.1</td>\n",
       "      <td>14.7</td>\n",
       "      <td>5.38</td>\n",
       "      <td>8.5</td>\n",
       "      <td>320</td>\n",
       "      <td>28.6</td>\n",
       "      <td>32.2</td>\n",
       "      <td>88.8</td>\n",
       "      <td>52</td>\n",
       "      <td>1</td>\n",
       "    </tr>\n",
       "    <tr>\n",
       "      <th>4</th>\n",
       "      <td>31.8</td>\n",
       "      <td>10.9</td>\n",
       "      <td>4.05</td>\n",
       "      <td>26.9</td>\n",
       "      <td>220</td>\n",
       "      <td>28.6</td>\n",
       "      <td>34.8</td>\n",
       "      <td>82.3</td>\n",
       "      <td>66</td>\n",
       "      <td>0</td>\n",
       "    </tr>\n",
       "  </tbody>\n",
       "</table>\n",
       "</div>"
      ],
      "text/plain": [
       "   HAEMATOCRIT  HAEMOGLOBINS  ERYTHROCYTE  LEUCOCYTE  THROMBOCYTE   MCH  MCHC  \\\n",
       "0         43.6          14.5         5.52        3.0          237  27.5  33.6   \n",
       "1         44.3          14.4         5.09        7.3          255  29.7  32.9   \n",
       "2         36.2          12.5         4.57        7.8          263  28.9  35.0   \n",
       "3         46.1          14.7         5.38        8.5          320  28.6  32.2   \n",
       "4         31.8          10.9         4.05       26.9          220  28.6  34.8   \n",
       "\n",
       "    MCV  AGE  SEX  \n",
       "0  81.7   32    0  \n",
       "1  90.4   40    1  \n",
       "2  82.6   65    0  \n",
       "3  88.8   52    1  \n",
       "4  82.3   66    0  "
      ]
     },
     "execution_count": 24,
     "metadata": {},
     "output_type": "execute_result"
    }
   ],
   "source": [
    "train[num_feat].head()"
   ]
  },
  {
   "cell_type": "markdown",
   "metadata": {},
   "source": [
    "## Model Building"
   ]
  },
  {
   "cell_type": "code",
   "execution_count": 25,
   "metadata": {},
   "outputs": [],
   "source": [
    "# Data Preprocessing\n",
    "\n",
    "scaler = StandardScaler()\n",
    "cols = num_feat\n",
    "\n",
    "X = scaler.fit_transform(train[num_feat])\n",
    "testing = scaler.transform(test[num_feat])"
   ]
  },
  {
   "cell_type": "code",
   "execution_count": 26,
   "metadata": {},
   "outputs": [],
   "source": [
    "X = pd.DataFrame(data=X, columns=cols)\n",
    "testing = pd.DataFrame(data=testing, columns=cols)"
   ]
  },
  {
   "cell_type": "code",
   "execution_count": 27,
   "metadata": {},
   "outputs": [
    {
     "data": {
      "text/html": [
       "<div>\n",
       "<style scoped>\n",
       "    .dataframe tbody tr th:only-of-type {\n",
       "        vertical-align: middle;\n",
       "    }\n",
       "\n",
       "    .dataframe tbody tr th {\n",
       "        vertical-align: top;\n",
       "    }\n",
       "\n",
       "    .dataframe thead th {\n",
       "        text-align: right;\n",
       "    }\n",
       "</style>\n",
       "<table border=\"1\" class=\"dataframe\">\n",
       "  <thead>\n",
       "    <tr style=\"text-align: right;\">\n",
       "      <th></th>\n",
       "      <th>HAEMATOCRIT</th>\n",
       "      <th>HAEMOGLOBINS</th>\n",
       "      <th>ERYTHROCYTE</th>\n",
       "      <th>LEUCOCYTE</th>\n",
       "      <th>THROMBOCYTE</th>\n",
       "      <th>MCH</th>\n",
       "      <th>MCHC</th>\n",
       "      <th>MCV</th>\n",
       "      <th>AGE</th>\n",
       "      <th>SEX</th>\n",
       "    </tr>\n",
       "  </thead>\n",
       "  <tbody>\n",
       "    <tr>\n",
       "      <th>0</th>\n",
       "      <td>0.859740</td>\n",
       "      <td>0.884487</td>\n",
       "      <td>0.969308</td>\n",
       "      <td>-1.145159</td>\n",
       "      <td>-0.204812</td>\n",
       "      <td>-0.270204</td>\n",
       "      <td>0.201741</td>\n",
       "      <td>-0.416803</td>\n",
       "      <td>-0.674221</td>\n",
       "      <td>-1.048452</td>\n",
       "    </tr>\n",
       "    <tr>\n",
       "      <th>1</th>\n",
       "      <td>0.975071</td>\n",
       "      <td>0.836973</td>\n",
       "      <td>0.426484</td>\n",
       "      <td>-0.294476</td>\n",
       "      <td>-0.048949</td>\n",
       "      <td>0.557415</td>\n",
       "      <td>-0.368527</td>\n",
       "      <td>0.860011</td>\n",
       "      <td>-0.305237</td>\n",
       "      <td>0.953787</td>\n",
       "    </tr>\n",
       "    <tr>\n",
       "      <th>2</th>\n",
       "      <td>-0.359484</td>\n",
       "      <td>-0.065793</td>\n",
       "      <td>-0.229956</td>\n",
       "      <td>-0.195559</td>\n",
       "      <td>0.020324</td>\n",
       "      <td>0.256463</td>\n",
       "      <td>1.342278</td>\n",
       "      <td>-0.284719</td>\n",
       "      <td>0.847840</td>\n",
       "      <td>-1.048452</td>\n",
       "    </tr>\n",
       "    <tr>\n",
       "      <th>3</th>\n",
       "      <td>1.271639</td>\n",
       "      <td>0.979515</td>\n",
       "      <td>0.792575</td>\n",
       "      <td>-0.057076</td>\n",
       "      <td>0.513893</td>\n",
       "      <td>0.143605</td>\n",
       "      <td>-0.938796</td>\n",
       "      <td>0.625195</td>\n",
       "      <td>0.248240</td>\n",
       "      <td>0.953787</td>\n",
       "    </tr>\n",
       "    <tr>\n",
       "      <th>4</th>\n",
       "      <td>-1.084428</td>\n",
       "      <td>-0.826018</td>\n",
       "      <td>-0.886395</td>\n",
       "      <td>3.583056</td>\n",
       "      <td>-0.352017</td>\n",
       "      <td>0.143605</td>\n",
       "      <td>1.179345</td>\n",
       "      <td>-0.328747</td>\n",
       "      <td>0.893963</td>\n",
       "      <td>-1.048452</td>\n",
       "    </tr>\n",
       "  </tbody>\n",
       "</table>\n",
       "</div>"
      ],
      "text/plain": [
       "   HAEMATOCRIT  HAEMOGLOBINS  ERYTHROCYTE  LEUCOCYTE  THROMBOCYTE       MCH  \\\n",
       "0     0.859740      0.884487     0.969308  -1.145159    -0.204812 -0.270204   \n",
       "1     0.975071      0.836973     0.426484  -0.294476    -0.048949  0.557415   \n",
       "2    -0.359484     -0.065793    -0.229956  -0.195559     0.020324  0.256463   \n",
       "3     1.271639      0.979515     0.792575  -0.057076     0.513893  0.143605   \n",
       "4    -1.084428     -0.826018    -0.886395   3.583056    -0.352017  0.143605   \n",
       "\n",
       "       MCHC       MCV       AGE       SEX  \n",
       "0  0.201741 -0.416803 -0.674221 -1.048452  \n",
       "1 -0.368527  0.860011 -0.305237  0.953787  \n",
       "2  1.342278 -0.284719  0.847840 -1.048452  \n",
       "3 -0.938796  0.625195  0.248240  0.953787  \n",
       "4  1.179345 -0.328747  0.893963 -1.048452  "
      ]
     },
     "execution_count": 27,
     "metadata": {},
     "output_type": "execute_result"
    }
   ],
   "source": [
    "X.head()"
   ]
  },
  {
   "cell_type": "code",
   "execution_count": 28,
   "metadata": {},
   "outputs": [],
   "source": [
    "#Building a base model\n",
    "\n",
    "X_train, X_test, y_train, y_test = train_test_split(X, train.SOURCE, test_size=0.2, random_state=42)"
   ]
  },
  {
   "cell_type": "code",
   "execution_count": 29,
   "metadata": {},
   "outputs": [],
   "source": [
    "model = lgb.LGBMClassifier(objective='binary')"
   ]
  },
  {
   "cell_type": "code",
   "execution_count": 30,
   "metadata": {},
   "outputs": [
    {
     "data": {
      "text/plain": [
       "LGBMClassifier(boosting_type='gbdt', class_weight=None, colsample_bytree=1.0,\n",
       "               importance_type='split', learning_rate=0.1, max_depth=-1,\n",
       "               min_child_samples=20, min_child_weight=0.001, min_split_gain=0.0,\n",
       "               n_estimators=100, n_jobs=-1, num_leaves=31, objective='binary',\n",
       "               random_state=None, reg_alpha=0.0, reg_lambda=0.0, silent=True,\n",
       "               subsample=1.0, subsample_for_bin=200000, subsample_freq=0)"
      ]
     },
     "execution_count": 30,
     "metadata": {},
     "output_type": "execute_result"
    }
   ],
   "source": [
    "model.fit(X_train, y_train)"
   ]
  },
  {
   "cell_type": "markdown",
   "metadata": {},
   "source": [
    "## Evaluation"
   ]
  },
  {
   "cell_type": "code",
   "execution_count": 31,
   "metadata": {},
   "outputs": [],
   "source": [
    "from sklearn.metrics import f1_score"
   ]
  },
  {
   "cell_type": "code",
   "execution_count": 32,
   "metadata": {},
   "outputs": [],
   "source": [
    "pred = model.predict(X_test)\n",
    "pred2 = model.predict(X_train)"
   ]
  },
  {
   "cell_type": "code",
   "execution_count": 33,
   "metadata": {},
   "outputs": [
    {
     "name": "stdout",
     "output_type": "stream",
     "text": [
      "Training set\n",
      "classifier f1_score 0.9497206703910616\n",
      "\n",
      "Testing set\n",
      "classifier f1_score 0.6313465783664458\n"
     ]
    }
   ],
   "source": [
    "print('Training set')\n",
    "print(\"classifier f1_score {}\".format(f1_score(y_train, pred2)))\n",
    "print('')\n",
    "print('Testing set')\n",
    "print(\"classifier f1_score {}\".format(f1_score(y_test, pred)))"
   ]
  },
  {
   "cell_type": "code",
   "execution_count": 34,
   "metadata": {},
   "outputs": [
    {
     "data": {
      "text/html": [
       "<div>\n",
       "<style scoped>\n",
       "    .dataframe tbody tr th:only-of-type {\n",
       "        vertical-align: middle;\n",
       "    }\n",
       "\n",
       "    .dataframe tbody tr th {\n",
       "        vertical-align: top;\n",
       "    }\n",
       "\n",
       "    .dataframe thead th {\n",
       "        text-align: right;\n",
       "    }\n",
       "</style>\n",
       "<table border=\"1\" class=\"dataframe\">\n",
       "  <thead>\n",
       "    <tr style=\"text-align: right;\">\n",
       "      <th></th>\n",
       "      <th>patient_id_</th>\n",
       "      <th>SOURCE</th>\n",
       "    </tr>\n",
       "  </thead>\n",
       "  <tbody>\n",
       "    <tr>\n",
       "      <th>0</th>\n",
       "      <td>patient_id_4373</td>\n",
       "      <td>1</td>\n",
       "    </tr>\n",
       "    <tr>\n",
       "      <th>1</th>\n",
       "      <td>patient_id_2204</td>\n",
       "      <td>1</td>\n",
       "    </tr>\n",
       "    <tr>\n",
       "      <th>2</th>\n",
       "      <td>patient_id_93</td>\n",
       "      <td>1</td>\n",
       "    </tr>\n",
       "    <tr>\n",
       "      <th>3</th>\n",
       "      <td>patient_id_798</td>\n",
       "      <td>1</td>\n",
       "    </tr>\n",
       "    <tr>\n",
       "      <th>4</th>\n",
       "      <td>patient_id_789</td>\n",
       "      <td>1</td>\n",
       "    </tr>\n",
       "  </tbody>\n",
       "</table>\n",
       "</div>"
      ],
      "text/plain": [
       "       patient_id_  SOURCE\n",
       "0  patient_id_4373       1\n",
       "1  patient_id_2204       1\n",
       "2    patient_id_93       1\n",
       "3   patient_id_798       1\n",
       "4   patient_id_789       1"
      ]
     },
     "execution_count": 34,
     "metadata": {},
     "output_type": "execute_result"
    }
   ],
   "source": [
    "sample_submission.head()"
   ]
  },
  {
   "cell_type": "code",
   "execution_count": 35,
   "metadata": {},
   "outputs": [],
   "source": [
    "submission_file = sample_submission.copy()"
   ]
  },
  {
   "cell_type": "code",
   "execution_count": 36,
   "metadata": {},
   "outputs": [],
   "source": [
    "submission_file.SOURCE = model.predict(testing)"
   ]
  },
  {
   "cell_type": "code",
   "execution_count": 37,
   "metadata": {},
   "outputs": [
    {
     "data": {
      "text/html": [
       "<div>\n",
       "<style scoped>\n",
       "    .dataframe tbody tr th:only-of-type {\n",
       "        vertical-align: middle;\n",
       "    }\n",
       "\n",
       "    .dataframe tbody tr th {\n",
       "        vertical-align: top;\n",
       "    }\n",
       "\n",
       "    .dataframe thead th {\n",
       "        text-align: right;\n",
       "    }\n",
       "</style>\n",
       "<table border=\"1\" class=\"dataframe\">\n",
       "  <thead>\n",
       "    <tr style=\"text-align: right;\">\n",
       "      <th></th>\n",
       "      <th>patient_id_</th>\n",
       "      <th>SOURCE</th>\n",
       "    </tr>\n",
       "  </thead>\n",
       "  <tbody>\n",
       "    <tr>\n",
       "      <th>0</th>\n",
       "      <td>patient_id_4373</td>\n",
       "      <td>0</td>\n",
       "    </tr>\n",
       "    <tr>\n",
       "      <th>1</th>\n",
       "      <td>patient_id_2204</td>\n",
       "      <td>1</td>\n",
       "    </tr>\n",
       "    <tr>\n",
       "      <th>2</th>\n",
       "      <td>patient_id_93</td>\n",
       "      <td>0</td>\n",
       "    </tr>\n",
       "    <tr>\n",
       "      <th>3</th>\n",
       "      <td>patient_id_798</td>\n",
       "      <td>0</td>\n",
       "    </tr>\n",
       "    <tr>\n",
       "      <th>4</th>\n",
       "      <td>patient_id_789</td>\n",
       "      <td>0</td>\n",
       "    </tr>\n",
       "  </tbody>\n",
       "</table>\n",
       "</div>"
      ],
      "text/plain": [
       "       patient_id_  SOURCE\n",
       "0  patient_id_4373       0\n",
       "1  patient_id_2204       1\n",
       "2    patient_id_93       0\n",
       "3   patient_id_798       0\n",
       "4   patient_id_789       0"
      ]
     },
     "execution_count": 37,
     "metadata": {},
     "output_type": "execute_result"
    }
   ],
   "source": [
    "submission_file.head()"
   ]
  },
  {
   "cell_type": "code",
   "execution_count": 38,
   "metadata": {},
   "outputs": [
    {
     "data": {
      "text/plain": [
       "<AxesSubplot:xlabel='SOURCE', ylabel='count'>"
      ]
     },
     "execution_count": 38,
     "metadata": {},
     "output_type": "execute_result"
    },
    {
     "data": {
      "image/png": "[encoded data removed]",
      "text/plain": [
       "<Figure size 432x288 with 1 Axes>"
      ]
     },
     "metadata": {
      "needs_background": "light"
     },
     "output_type": "display_data"
    }
   ],
   "source": [
    "sns.countplot(x=submission_file.SOURCE)"
   ]
  },
  {
   "cell_type": "code",
   "execution_count": 39,
   "metadata": {},
   "outputs": [],
   "source": [
    "#submission_file.to_csv(\"My_Third_Submission\", index=False)"
   ]
  },
  {
   "cell_type": "code",
   "execution_count": null,
   "metadata": {},
   "outputs": [],
   "source": []
  }
 ],
 "metadata": {
  "kernelspec": {
   "display_name": "Python 3",
   "language": "python",
   "name": "python3"
  },
  "language_info": {
   "codemirror_mode": {
    "name": "ipython",
    "version": 3
   },
   "file_extension": ".py",
   "mimetype": "text/x-python",
   "name": "python",
   "nbconvert_exporter": "python",
   "pygments_lexer": "ipython3",
   "version": "3.7.6"
  }
 },
 "nbformat": 4,
 "nbformat_minor": 4
}
